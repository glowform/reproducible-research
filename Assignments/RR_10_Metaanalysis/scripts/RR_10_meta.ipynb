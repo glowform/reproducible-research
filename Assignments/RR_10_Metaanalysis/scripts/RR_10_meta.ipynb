{
 "cells": [
  {
   "cell_type": "code",
   "execution_count": 2,
   "metadata": {},
   "outputs": [],
   "source": [
    "#!pip install numpy pandas statsmodels matplotlib\n",
    "\n",
    "import numpy as np\n",
    "import pandas as pd\n",
    "import statsmodels.api as sm\n",
    "from statsmodels.stats.meta_analysis import combine_effects, effectsize_smd, effectsize_2proportions\n",
    "import matplotlib.pyplot as plt"
   ]
  },
  {
   "cell_type": "code",
   "execution_count": 16,
   "metadata": {},
   "outputs": [
    {
     "data": {
      "text/html": [
       "<div>\n",
       "<style scoped>\n",
       "    .dataframe tbody tr th:only-of-type {\n",
       "        vertical-align: middle;\n",
       "    }\n",
       "\n",
       "    .dataframe tbody tr th {\n",
       "        vertical-align: top;\n",
       "    }\n",
       "\n",
       "    .dataframe thead th {\n",
       "        text-align: right;\n",
       "    }\n",
       "</style>\n",
       "<table border=\"1\" class=\"dataframe\">\n",
       "  <thead>\n",
       "    <tr style=\"text-align: right;\">\n",
       "      <th></th>\n",
       "      <th>author</th>\n",
       "      <th>year</th>\n",
       "      <th>tpos</th>\n",
       "      <th>tneg</th>\n",
       "      <th>cpos</th>\n",
       "      <th>cneg</th>\n",
       "      <th>continent</th>\n",
       "    </tr>\n",
       "  </thead>\n",
       "  <tbody>\n",
       "    <tr>\n",
       "      <th>0</th>\n",
       "      <td>Study1</td>\n",
       "      <td>1991</td>\n",
       "      <td>30</td>\n",
       "      <td>70</td>\n",
       "      <td>20</td>\n",
       "      <td>80</td>\n",
       "      <td>Europe</td>\n",
       "    </tr>\n",
       "    <tr>\n",
       "      <th>1</th>\n",
       "      <td>Study2</td>\n",
       "      <td>1995</td>\n",
       "      <td>45</td>\n",
       "      <td>55</td>\n",
       "      <td>35</td>\n",
       "      <td>65</td>\n",
       "      <td>Asia</td>\n",
       "    </tr>\n",
       "    <tr>\n",
       "      <th>2</th>\n",
       "      <td>Study3</td>\n",
       "      <td>1999</td>\n",
       "      <td>28</td>\n",
       "      <td>72</td>\n",
       "      <td>22</td>\n",
       "      <td>78</td>\n",
       "      <td>Europe</td>\n",
       "    </tr>\n",
       "    <tr>\n",
       "      <th>3</th>\n",
       "      <td>Study4</td>\n",
       "      <td>2003</td>\n",
       "      <td>50</td>\n",
       "      <td>50</td>\n",
       "      <td>45</td>\n",
       "      <td>55</td>\n",
       "      <td>Asia</td>\n",
       "    </tr>\n",
       "    <tr>\n",
       "      <th>4</th>\n",
       "      <td>Study5</td>\n",
       "      <td>2007</td>\n",
       "      <td>60</td>\n",
       "      <td>40</td>\n",
       "      <td>55</td>\n",
       "      <td>45</td>\n",
       "      <td>Africa</td>\n",
       "    </tr>\n",
       "  </tbody>\n",
       "</table>\n",
       "</div>"
      ],
      "text/plain": [
       "   author  year  tpos  tneg  cpos  cneg continent\n",
       "0  Study1  1991    30    70    20    80    Europe\n",
       "1  Study2  1995    45    55    35    65      Asia\n",
       "2  Study3  1999    28    72    22    78    Europe\n",
       "3  Study4  2003    50    50    45    55      Asia\n",
       "4  Study5  2007    60    40    55    45    Africa"
      ]
     },
     "execution_count": 16,
     "metadata": {},
     "output_type": "execute_result"
    }
   ],
   "source": [
    "# Create synthetic dataset\n",
    "data = {\n",
    "    'author': ['Study1', 'Study2', 'Study3', 'Study4', 'Study5'],\n",
    "    'year': [1991, 1995, 1999, 2003, 2007],\n",
    "    'tpos': [30, 45, 28, 50, 60],\n",
    "    'tneg': [70, 55, 72, 50, 40],\n",
    "    'cpos': [20, 35, 22, 45, 55],\n",
    "    'cneg': [80, 65, 78, 55, 45],\n",
    "    'continent': ['Europe', 'Asia', 'Europe', 'Asia', 'Africa']\n",
    "}\n",
    "df = pd.DataFrame(data)\n",
    "\n",
    "\n",
    "\n",
    "df.head()"
   ]
  },
  {
   "cell_type": "code",
   "execution_count": 17,
   "metadata": {},
   "outputs": [],
   "source": [
    "# Calculate effect sizes and variances using proportions\n",
    "df['effect_size'], df['variance'] = effectsize_2proportions(df['tpos'], df['tpos'] + df['tneg'],\n",
    "                                                            df['cpos'], df['cpos'] + df['cneg'])"
   ]
  },
  {
   "cell_type": "code",
   "execution_count": 20,
   "metadata": {},
   "outputs": [
    {
     "name": "stdout",
     "output_type": "stream",
     "text": [
      "                        eff    sd_eff    ci_low    ci_upp      w_fe      w_re\n",
      "0                  0.100000  0.060828 -0.019220  0.219220  0.234024  0.234024\n",
      "1                  0.100000  0.068920 -0.035081  0.235081  0.182292  0.182292\n",
      "2                  0.060000  0.061090 -0.059734  0.179734  0.232017  0.232017\n",
      "3                  0.050000  0.070534 -0.088243  0.188243  0.174048  0.174048\n",
      "4                  0.050000  0.069821 -0.086847  0.186847  0.177618  0.177618\n",
      "fixed effect       0.073136  0.029426  0.015462  0.130810  1.000000       NaN\n",
      "random effect      0.073136  0.029426  0.015462  0.130810       NaN  1.000000\n",
      "fixed effect wls   0.073136  0.011497  0.050602  0.095670  1.000000       NaN\n",
      "random effect wls  0.073136  0.011497  0.050602  0.095670       NaN  1.000000\n",
      "                        eff    sd_eff    ci_low    ci_upp      w_fe      w_re\n",
      "0                  0.100000  0.060828 -0.019220  0.219220  0.234024  0.234024\n",
      "1                  0.100000  0.068920 -0.035081  0.235081  0.182292  0.182292\n",
      "2                  0.060000  0.061090 -0.059734  0.179734  0.232017  0.232017\n",
      "3                  0.050000  0.070534 -0.088243  0.188243  0.174048  0.174048\n",
      "4                  0.050000  0.069821 -0.086847  0.186847  0.177618  0.177618\n",
      "fixed effect       0.073136  0.029426  0.015462  0.130810  1.000000       NaN\n",
      "random effect      0.073136  0.029426  0.015462  0.130810       NaN  1.000000\n",
      "fixed effect wls   0.073136  0.011497  0.050602  0.095670  1.000000       NaN\n",
      "random effect wls  0.073136  0.011497  0.050602  0.095670       NaN  1.000000\n"
     ]
    },
    {
     "data": {
      "image/png": "[encoded data removed]",
      "text/plain": [
       "<Figure size 432x288 with 1 Axes>"
      ]
     },
     "metadata": {
      "needs_background": "light"
     },
     "output_type": "display_data"
    }
   ],
   "source": [
    "# Conduct meta-analysis\n",
    "effects = df['effect_size']\n",
    "variances = df['variance']\n",
    "result = combine_effects(effects, variances, use_t=False)  # Remove 'method' parameter\n",
    "\n",
    "# Inspect the summary frame to identify the correct column names\n",
    "summary_frame = result.summary_frame()\n",
    "print(summary_frame)\n",
    "\n",
    "# Extract the combined effect size\n",
    "combined_effect = summary_frame['eff'].iloc[0]\n"
   ]
  },
  {
   "cell_type": "code",
   "execution_count": 21,
   "metadata": {},
   "outputs": [
    {
     "data": {
      "image/png": "[encoded data removed]",
      "text/plain": [
       "<Figure size 432x288 with 1 Axes>"
      ]
     },
     "metadata": {
      "needs_background": "light"
     },
     "output_type": "display_data"
    }
   ],
   "source": [
    "# Plot the forest plot\n",
    "plt.errorbar(effects, range(len(effects)), xerr=np.sqrt(variances), fmt='o')\n",
    "plt.axvline(combined_effect, color='r', linestyle='--')\n",
    "plt.title('Forest Plot')\n",
    "plt.xlabel('Effect Size')\n",
    "plt.ylabel('Study')\n",
    "plt.show()"
   ]
  },
  {
   "cell_type": "code",
   "execution_count": 22,
   "metadata": {},
   "outputs": [
    {
     "name": "stdout",
     "output_type": "stream",
     "text": [
      "Subgroup Europe results:\n",
      "                        eff    sd_eff    ci_low    ci_upp      w_fe      w_re\n",
      "0                  0.100000  0.060828 -0.019220  0.219220  0.502153  0.502153\n",
      "1                  0.060000  0.061090 -0.059734  0.179734  0.497847  0.497847\n",
      "fixed effect       0.080086  0.043104 -0.004396  0.164569  1.000000       NaN\n",
      "random effect      0.080086  0.043104 -0.004396  0.164569       NaN  1.000000\n",
      "fixed effect wls   0.080086  0.020000  0.040887  0.119285  1.000000       NaN\n",
      "random effect wls  0.080086  0.020000  0.040887  0.119285       NaN  1.000000\n",
      "Subgroup Asia results:\n",
      "                        eff    sd_eff    ci_low    ci_upp      w_fe      w_re\n",
      "0                  0.100000  0.068920 -0.035081  0.235081  0.511568  0.511568\n",
      "1                  0.050000  0.070534 -0.088243  0.188243  0.488432  0.488432\n",
      "fixed effect       0.075578  0.049295 -0.021037  0.172194  1.000000       NaN\n",
      "random effect      0.075578  0.049295 -0.021037  0.172194       NaN  1.000000\n",
      "fixed effect wls   0.075578  0.024993  0.026592  0.124564  1.000000       NaN\n",
      "random effect wls  0.075578  0.024993  0.026592  0.124564       NaN  1.000000\n",
      "Subgroup Africa results:\n",
      "                    eff    sd_eff    ci_low    ci_upp  w_fe  w_re\n",
      "0                  0.05  0.069821 -0.086847  0.186847   1.0   1.0\n",
      "fixed effect       0.05  0.069821 -0.086847  0.186847   1.0   NaN\n",
      "random effect      0.05  0.069821 -0.086847  0.186847   NaN   1.0\n",
      "fixed effect wls   0.05       NaN       NaN       NaN   1.0   NaN\n",
      "random effect wls  0.05       NaN       NaN       NaN   NaN   1.0\n"
     ]
    },
    {
     "name": "stderr",
     "output_type": "stream",
     "text": [
      "c:\\Users\\et\\miniconda3\\lib\\site-packages\\statsmodels\\stats\\meta_analysis.py:620: RuntimeWarning: invalid value encountered in double_scalars\n",
      "  scale_hksj_re = (weights_re * (eff - mean_effect_re)**2).sum() / df\n",
      "c:\\Users\\et\\miniconda3\\lib\\site-packages\\statsmodels\\stats\\meta_analysis.py:621: RuntimeWarning: invalid value encountered in double_scalars\n",
      "  scale_hksj_fe = (weights_fe * (eff - mean_effect_fe)**2).sum() / df\n",
      "c:\\Users\\et\\miniconda3\\lib\\site-packages\\statsmodels\\stats\\meta_analysis.py:622: RuntimeWarning: invalid value encountered in double_scalars\n",
      "  var_hksj_re = (weights_rel_re * (eff - mean_effect_re)**2).sum() / df\n",
      "c:\\Users\\et\\miniconda3\\lib\\site-packages\\statsmodels\\stats\\meta_analysis.py:623: RuntimeWarning: invalid value encountered in double_scalars\n",
      "  var_hksj_fe = (weights_rel_fe * (eff - mean_effect_fe)**2).sum() / df\n",
      "c:\\Users\\et\\miniconda3\\lib\\site-packages\\statsmodels\\stats\\meta_analysis.py:34: RuntimeWarning: invalid value encountered in double_scalars\n",
      "  self.h2 = self.q / (self.k - 1)\n"
     ]
    }
   ],
   "source": [
    "# Subgroup analysis by continent\n",
    "continents = df['continent'].unique()\n",
    "for continent in continents:\n",
    "    subgroup_data = df[df['continent'] == continent]\n",
    "    effects = subgroup_data['effect_size']\n",
    "    variances = subgroup_data['variance']\n",
    "    result = combine_effects(effects, variances, use_t=False)\n",
    "    print(f\"Subgroup {continent} results:\")\n",
    "    print(result.summary_frame())"
   ]
  }
 ],
 "metadata": {
  "kernelspec": {
   "display_name": "base",
   "language": "python",
   "name": "python3"
  },
  "language_info": {
   "codemirror_mode": {
    "name": "ipython",
    "version": 3
   },
   "file_extension": ".py",
   "mimetype": "text/x-python",
   "name": "python",
   "nbconvert_exporter": "python",
   "pygments_lexer": "ipython3",
   "version": "3.9.7"
  }
 },
 "nbformat": 4,
 "nbformat_minor": 2
}
